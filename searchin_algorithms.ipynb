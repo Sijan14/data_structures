{
 "cells": [
  {
   "cell_type": "markdown",
   "metadata": {},
   "source": [
    "Write a Python program to create a queue and display all the members and size\n",
    "of the queue. (Import the queue library, do not create the class)"
   ]
  },
  {
   "cell_type": "code",
   "execution_count": 8,
   "metadata": {},
   "outputs": [
    {
     "name": "stdout",
     "output_type": "stream",
     "text": [
      "Members of the queue:\n",
      "1\n",
      "2\n",
      "3\n",
      "4\n",
      "The size of the queue: 4\n"
     ]
    }
   ],
   "source": [
    "from queue import Queue\n",
    "\n",
    "my_queue = Queue()\n",
    "\n",
    "my_queue.put(1)\n",
    "my_queue.put(2)\n",
    "my_queue.put(3)\n",
    "my_queue.put(4)\n",
    "\n",
    "my_queue_size = my_queue.qsize()\n",
    "\n",
    "print(\"Members of the queue:\")\n",
    "while not my_queue.empty():\n",
    "    print(my_queue.queue[0])\n",
    "    my_queue.get()\n",
    "\n",
    "print(f'The size of the queue: {my_queue_size}')\n",
    "\n",
    "\n"
   ]
  },
  {
   "cell_type": "markdown",
   "metadata": {},
   "source": [
    "2- Write a function to reverse a string using a stack"
   ]
  },
  {
   "cell_type": "code",
   "execution_count": 12,
   "metadata": {},
   "outputs": [
    {
     "name": "stdout",
     "output_type": "stream",
     "text": [
      "Original string: Hello, World!\n",
      "Reversed string: !dlroW ,olleH\n"
     ]
    }
   ],
   "source": [
    "def reverse_string(input_string):\n",
    "    stack = []\n",
    "\n",
    "    for char in input_string:\n",
    "        stack.append(char)\n",
    "\n",
    "    reversed_string = \"\"\n",
    "    while len(stack) != 0:\n",
    "        reversed_string += stack.pop()\n",
    "    \n",
    "    return reversed_string\n",
    "\n",
    "# Example usage:\n",
    "input_str = \"Hello, World!\"\n",
    "reversed_str = reverse_string(input_str)\n",
    "print(\"Original string:\", input_str)\n",
    "print(\"Reversed string:\", reversed_str)"
   ]
  },
  {
   "cell_type": "markdown",
   "metadata": {},
   "source": [
    "3- Create a hash table to count the frequency of words in a given text."
   ]
  },
  {
   "cell_type": "code",
   "execution_count": 17,
   "metadata": {},
   "outputs": [
    {
     "name": "stdout",
     "output_type": "stream",
     "text": [
      "Word Frequency:\n",
      "'in': 1\n",
      "'python': 1\n",
      "'dictionaries': 1\n",
      "'are': 2\n",
      "'examples': 1\n",
      "'of': 1\n",
      "'hash': 2\n",
      "'maps': 1\n",
      "'tables': 1\n",
      "'cool': 1\n"
     ]
    }
   ],
   "source": [
    "def count_word_frequency(text):\n",
    "    words = text.split()\n",
    "    word_freq = {}\n",
    "\n",
    "    for word in words:\n",
    "        word = word.strip('.,?!;:\"').lower()\n",
    "\n",
    "        if word in word_freq:\n",
    "            word_freq[word] += 1\n",
    "        else:\n",
    "            word_freq[word] = 1\n",
    "    \n",
    "    return word_freq\n",
    "\n",
    "# Example text\n",
    "input_text = \"In Python, dictionaries are examples of hash maps. Hash tables are cool!\"\n",
    "# Count word frequency in the text\n",
    "word_frequency = count_word_frequency(input_text)\n",
    "# Display the word frequency\n",
    "print(\"Word Frequency:\")\n",
    "for word, freq in word_frequency.items():\n",
    "    print(f\"'{word}': {freq}\")"
   ]
  },
  {
   "cell_type": "markdown",
   "metadata": {},
   "source": [
    "4- Implement a function to perform a binary search on a sorted list and return\n",
    "the index of the target element, or -1 if not found."
   ]
  },
  {
   "cell_type": "code",
   "execution_count": 20,
   "metadata": {},
   "outputs": [
    {
     "name": "stdout",
     "output_type": "stream",
     "text": [
      "Index of 18: 4\n"
     ]
    }
   ],
   "source": [
    "def binary_search(array, item):\n",
    "    low = 0\n",
    "    high = len(array) - 1\n",
    "\n",
    "    while (low <= high):\n",
    "        mid = (low + high) // 2\n",
    "\n",
    "        if array[mid] == item:\n",
    "            return mid\n",
    "        \n",
    "        elif array[mid] < item:\n",
    "            low = mid + 1\n",
    "        \n",
    "        else:\n",
    "            high = mid - 1\n",
    "    \n",
    "    return -1\n",
    "\n",
    "# Test case\n",
    "sorted_list = [2, 5, 7, 12, 18, 23, 35, 42]\n",
    "target_element = 18\n",
    "result = binary_search(sorted_list, target_element)\n",
    "print(f\"Index of {target_element}: {result}\")\n",
    "\n"
   ]
  },
  {
   "cell_type": "markdown",
   "metadata": {},
   "source": [
    "Frequency of a number in a given list"
   ]
  },
  {
   "cell_type": "code",
   "execution_count": 21,
   "metadata": {},
   "outputs": [
    {
     "name": "stdout",
     "output_type": "stream",
     "text": [
      "Frequency of a number in a given list\n",
      "{4: 4, 6: 3, 2: 3, 8: 2, 9: 1, 3: 1}\n"
     ]
    }
   ],
   "source": [
    "def frequency_numbers(numbers_list):\n",
    "    freq_count = {}\n",
    "\n",
    "    for i in range(len(numbers_list)):\n",
    "        if numbers_list[i] in freq_count:\n",
    "            freq_count[numbers_list[i]] += 1\n",
    "        else:\n",
    "            freq_count[numbers_list[i]] = 1\n",
    "    \n",
    "    return freq_count\n",
    "\n",
    "# Testing the function\n",
    "numbers = [4, 6, 2, 4, 6, 8, 4, 2, 9, 8, 2, 4, 3, 6]\n",
    "\n",
    "print(\"Frequency of a number in a given list\")\n",
    "print(frequency_numbers(numbers))"
   ]
  },
  {
   "cell_type": "markdown",
   "metadata": {},
   "source": [
    "Write a function that performs linear search on a list and returns the index of the target element, or -1 if not found."
   ]
  },
  {
   "cell_type": "code",
   "execution_count": 25,
   "metadata": {},
   "outputs": [
    {
     "name": "stdout",
     "output_type": "stream",
     "text": [
      "4\n"
     ]
    }
   ],
   "source": [
    "def linear_search(input_list, target):\n",
    "    i = 0\n",
    "    while (i <= len(input_list) - 1):\n",
    "        if input_list[i] == target:\n",
    "            return i\n",
    "        i += 1\n",
    "    return -1\n",
    "\n",
    "input_list = [1, 2, 3, 4, 5, 6, 7]\n",
    "print(linear_search(input_list, 5))"
   ]
  },
  {
   "cell_type": "code",
   "execution_count": null,
   "metadata": {},
   "outputs": [],
   "source": []
  }
 ],
 "metadata": {
  "kernelspec": {
   "display_name": "Python 3",
   "language": "python",
   "name": "python3"
  },
  "language_info": {
   "codemirror_mode": {
    "name": "ipython",
    "version": 3
   },
   "file_extension": ".py",
   "mimetype": "text/x-python",
   "name": "python",
   "nbconvert_exporter": "python",
   "pygments_lexer": "ipython3",
   "version": "3.12.1"
  }
 },
 "nbformat": 4,
 "nbformat_minor": 2
}
