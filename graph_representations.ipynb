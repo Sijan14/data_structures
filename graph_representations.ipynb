{
 "cells": [
  {
   "cell_type": "code",
   "execution_count": 2,
   "metadata": {},
   "outputs": [
    {
     "data": {
      "text/plain": [
       "'/'"
      ]
     },
     "execution_count": 2,
     "metadata": {},
     "output_type": "execute_result"
    }
   ],
   "source": []
  },
  {
   "cell_type": "code",
   "execution_count": null,
   "metadata": {},
   "outputs": [],
   "source": [
    "class AdjacencyListGraph(DirectedGraph):\n",
    "    def __init__(self):\n",
    "        self.vertices = []\n",
    "\n",
    "    # Creates and adds a new vertex to the graph, provided a vertex with the\n",
    "    # same label doesn't already exist in the graph. Returns the new vertex on\n",
    "    # success, None on failure.\n",
    "    def add_vertex(self, new_vertex_label):\n",
    "        # Your code here (remove placeholder line below)\n",
    "        if self.get_vertex(new_vertex_label) is None:\n",
    "            new_vertex = AdjacencyListVertex(new_vertex_label)\n",
    "            self.vertices.append(new_vertex)\n",
    "            return new_vertex\n",
    "    \n",
    "        return None\n",
    "        \n",
    "\n",
    "    # Adds a directed edge from the first to the second vertex. If the edge\n",
    "    # already exists in the graph, no change is made and False is returned.\n",
    "    # Otherwise the new edge is added and True is returned.\n",
    "    def add_directed_edge(self, from_vertex, to_vertex):\n",
    "        # Your code here (remove placeholder line below)\n",
    "        \n",
    "        if self.has_edge(from_vertex, to_vertex):\n",
    "            return False\n",
    "        \n",
    "        from_vertex.adjacent.append(to_vertex)\n",
    "        return True\n",
    "\n",
    "    # Returns a list of edges with the specified from_vertex.\n",
    "    def get_edges_from(self, from_vertex):\n",
    "        # Your code here (remove placeholder line below)\n",
    "        edges = []\n",
    "        \n",
    "        for vertex in self.vertices:\n",
    "            if vertex in from_vertex.adjacent:\n",
    "                edges.append(Edge(from_vertex, vertex))\n",
    "        return edges\n",
    "        \n",
    "\n",
    "    # Returns a list of edges with the specified to_vertex.\n",
    "    def get_edges_to(self, to_vertex):\n",
    "        # Your code here (remove placeholder line below)\n",
    "        edges = []\n",
    "        \n",
    "        for vertex in self.vertices:\n",
    "            if to_vertex in vertex.adjacent:\n",
    "                edges.append(Edge(vertex, to_vertex))\n",
    "        return edges\n",
    "\n",
    "    # Returns a vertex with a matching label, or None if no such vertex exists\n",
    "    def get_vertex(self, vertex_label):\n",
    "        # Your code here (remove placeholder line below)\n",
    "        for vertex in self.vertices:\n",
    "            if vertex.get_label() == vertex_label:\n",
    "                return vertex\n",
    "        return None\n",
    "\n",
    "    # Returns True if self graph has an edge from from_vertex to to_vertex\n",
    "    def has_edge(self, from_vertex, to_vertex):\n",
    "        # Your code here (remove placeholder line below)\n",
    "        \n",
    "        if from_vertex is None or to_vertex is None:\n",
    "            return False\n",
    "        \n",
    "        return to_vertex in from_vertex.adjacent\n"
   ]
  }
 ],
 "metadata": {
  "kernelspec": {
   "display_name": "Python 3",
   "language": "python",
   "name": "python3"
  },
  "language_info": {
   "codemirror_mode": {
    "name": "ipython",
    "version": 3
   },
   "file_extension": ".py",
   "mimetype": "text/x-python",
   "name": "python",
   "nbconvert_exporter": "python",
   "pygments_lexer": "ipython3",
   "version": "3.12.1"
  }
 },
 "nbformat": 4,
 "nbformat_minor": 2
}
